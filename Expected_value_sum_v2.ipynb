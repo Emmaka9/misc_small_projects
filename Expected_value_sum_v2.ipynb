{
  "nbformat": 4,
  "nbformat_minor": 0,
  "metadata": {
    "colab": {
      "provenance": [],
      "mount_file_id": "1W1elPMFWGi7L0dIC48SQ1e23KvrDc1D8",
      "authorship_tag": "ABX9TyNC1gW4YcOQS54cLYLWNudl",
      "include_colab_link": true
    },
    "kernelspec": {
      "name": "python3",
      "display_name": "Python 3"
    },
    "language_info": {
      "name": "python"
    }
  },
  "cells": [
    {
      "cell_type": "markdown",
      "metadata": {
        "id": "view-in-github",
        "colab_type": "text"
      },
      "source": [
        "<a href=\"https://colab.research.google.com/github/Emmaka9/misc_small_projects/blob/testing/Expected_value_sum_v2.ipynb\" target=\"_parent\"><img src=\"https://colab.research.google.com/assets/colab-badge.svg\" alt=\"Open In Colab\"/></a>"
      ]
    },
    {
      "cell_type": "markdown",
      "source": [
        "# Find the expected sum of a set of numbers (without replacement)\n",
        "***Question:*** *A deck of $n$ cards are numbered with the integers 1 through $n$. The cards are then shuffled, and $r$ cards are drawn at random from the deck without replacement. What is the expected value of the sum of the numbers on those $r$ cards?* $(r<= n)?$\n",
        "\n",
        "Rephrasing the question:\n",
        "Given a set of $n$ consecutive integers, pick any $r$ integers at random without replacement, i.e., no number can be picked twice. What is the expected value of those $r$ numbers?\n",
        "\n",
        "> **_NOTE_**<br>\n",
        "**Sample Space:** The set, S, of all possible outcomes of a particular experiment is called the sample space for the experiment.<br><br>\n",
        "**Random Variable:** A function from a sample space S into the real numbers.$$X:S → \\mathbb{R}$$ If that random variable $X$ is a set of possible values from a random experiment, then\n",
        "$$ X:𝑆 \\rightarrow 𝑆 $$so random variable is an identity function.\n",
        "**Random var vs. Sample space: read - [article](https://stats.stackexchange.com/questions/264260/what-is-the-difference-between-sample-space-and-random-variable#:~:text=A%20random%20variable%20is%20a%20function%20that%20assigns%20a%20value,40%2C%2050%2C%2060%7D.)<br><br>\n",
        "**Expected Value:** (also called expectation, expectancy, mathematical expectation, mean, average, or first moment) is a generalization of weighted average[src: wikipedia]. It doesn't have to be one of the values that the random variable takes. It is a theoretical long-run average of the results over many repeated trials of the experiment.\n",
        "$$E[X] = \\sum_{x}^{} xP(X=x) $$\n",
        "\n",
        "**Solution 1:** <br>\n",
        "Let's take the particular case of n = 4 and r = 2. <br>\n",
        "Sample space for the numbers being drawn:\n",
        "$$ S = \\{(1,2),(1,3),(1,4),(2,1),(2,3),(2,4),(4,1),(4,2),(4,3),(3,1),(3,2),(3,4)\\}$$\n",
        "$$|S| = 12$$\n",
        "Let random variable $X$ be the sum of the two numbers.\n",
        "Min sum = 1+2 = 3 and the Max sum = 4+3 = 7.\n",
        "Thus, $$X \\in \\{3, 4, 5, 6, 7\\}$$\n",
        "Now, <br>\n",
        "$P(X=3)$ : Probability of event getting $ (1,2),(2,1) = \\frac{2}{12} = \\frac{1}{6} $ <br>\n",
        "$P(X=4)$ : Probability of event getting $ (1,3),(3,1) = \\frac{2}{12} = \\frac{1}{6} $ <br>\n",
        "$P(X=5)$ : Probability of event getting $ (1,4),(4,1),(2,3),(3,2) = \\frac{4}{12} = \\frac{1}{3} $ <br>\n",
        "$P(X=6)$ : Probability of event getting $ (4,2),(2,4) = \\frac{2}{12} = \\frac{1}{6} $ <br>\n",
        "$P(X=7)$ : Probability of event getting $ (4,3),(3,4) = \\frac{2}{12} = \\frac{1}{6} $ <br>\n",
        "\n",
        "$$ \\begin{align*}\n",
        "E[X] &= \\sum_{x = 3}^{7} xP(X=x)\\\\\n",
        "&= 3 \\cdot \\frac{1}{6} + 4 \\cdot \\frac{1}{6} + 5 \\cdot \\frac{1}{3} + 6 \\cdot \\frac{1}{6} + 7 \\cdot \\frac{1}{6} \\\\\n",
        "&= \\frac{30}{6} =5\n",
        "\\end{align*}\n",
        "$$\n",
        "\n",
        "**Different Solution:**<br>\n",
        "Due to linearity of expectations, the expected value of drawing 2 cards $E(X)$ = Sum of the expected value of drawing one card $E(X_1) + E(X_2)$.\n",
        "$$E(X) = E(X_1) + E(X_2)$$\n",
        "$$ \\frac{1+2+3+4}{4} = \\frac{5}{2} $$\n",
        "So $ E(X_1) = E(X_2) = \\frac{5}{2} $ <br>\n",
        "Thus, the expected value of the sum of 2 cards drawn from the same deck is $2 \\cdot \\frac{5}{2} = 5$ [[srouce1](http://cs.baylor.edu/~speegle/2350/Answers_16.pdf), [source2](https://brilliant.org/courses/probability_ii/expected-value-4/expected-value-linearity-of-expectation/1/)]\n",
        "\n",
        "**Why does the second solution work?**<br>\n",
        "Taking one card changes the expected value of the next two, because if we take a 4, then the expected value of the NEXT card goes down from 2.5 to 2.\n",
        "\n",
        "But the nature of the distribution is entirely symmetrical, so we can prove that the impact of taking a 4 is exactly the same BUT IN THE OPPOSITE direction to taking a 1... so on the expectation, the two conditionals balance each other out... likewise, we can pair 3,2 ...and so on.\n",
        "\n",
        "It's worth noting that this shows up \"expected value\" doesn't have to be a value we can actually get.\n",
        "\n",
        "For example: deck = [1,2,3,4,5], r = 3.\n",
        "Mean = (1+2+3+4+5)/5 = 15/5 = 3\n",
        "If we take 5 as the first card, the mean goes down to 10/4 = 5/2 = 2.5<br>\n",
        "But if we take 1 as the first card, the mean = 14/4 = 7/2 = 3.5 <br>\n",
        "Thus, (2.5+3.5)/2 = 6/2 = 3 (balances out each other)\n",
        "\n",
        "\n",
        "\n",
        "\n",
        "\n",
        "\n",
        "\n",
        "\n"
      ],
      "metadata": {
        "id": "NS6nySCHI_QI"
      }
    },
    {
      "cell_type": "code",
      "source": [
        "import itertools\n",
        "import time\n",
        "import numpy as np"
      ],
      "metadata": {
        "id": "1LfbhNTo09F_"
      },
      "execution_count": 1,
      "outputs": []
    },
    {
      "cell_type": "code",
      "source": [
        "# calculate random variable values\n",
        "def rv_and_elements(r, deck, sample_space):\n",
        "    '''\n",
        "    A function that groups all r-tuple with the same sum within a dictionary.\n",
        "\n",
        "    Parameters\n",
        "    ----------\n",
        "    max_sum : int\n",
        "        maximum sum possible.\n",
        "    min_sum: int\n",
        "        minimum sum possible.\n",
        "\n",
        "    Returns\n",
        "    -------\n",
        "    dictionary\n",
        "        a dictionary where keys are the sum and each value is a list of all r-tuples that makes up the sum.\n",
        "    '''\n",
        "\n",
        "\n",
        "    # start =time.time()\n",
        "\n",
        "\n",
        "    dic = {}\n",
        "\n",
        "    # end = time.time()\n",
        "    # print(f\"elapsed time inside after perm: {end - start}\")\n",
        "\n",
        "    # start = time.time()\n",
        "\n",
        "\n",
        "    for i in sample_space:\n",
        "        dic.setdefault(sum(i), []).append(i)\n",
        "\n",
        "\n",
        "    # end = time.time()\n",
        "    # print(f\"elapsed time inside after quadratic loop: {end - start}\")\n",
        "\n",
        "\n",
        "    return dic\n",
        "\n"
      ],
      "metadata": {
        "id": "i79faVQsx3en"
      },
      "execution_count": 2,
      "outputs": []
    },
    {
      "cell_type": "code",
      "source": [],
      "metadata": {
        "id": "Dy-6T6g2Okqn"
      },
      "execution_count": 2,
      "outputs": []
    },
    {
      "cell_type": "code",
      "source": [
        "# expected value\n",
        "\n",
        "def expected_value_m1(dic, total_element):\n",
        "\n",
        "    values = np.array([])\n",
        "    for key in dic.keys():\n",
        "        values = np.append(values, len(dic[key]))\n",
        "\n",
        "    weights = np.asarray(list(dic.keys()))\n",
        "\n",
        "    ex = (weights * (values / total_element)).sum()\n",
        "\n",
        "    return ex\n",
        "\n",
        "def expected_value_m2(deck, r):\n",
        "    #start = time.time()\n",
        "\n",
        "    summation = 0\n",
        "\n",
        "    for i in deck:\n",
        "        summation += i\n",
        "    #print('sum = ', summation)\n",
        "\n",
        "    p = summation / len(deck)\n",
        "\n",
        "    #end = time.time()\n",
        "    #print(f\"elapsed time inside expected_value_m2: {end - start}\")\n",
        "    return p*r"
      ],
      "metadata": {
        "id": "AuiMtj4TOVRg"
      },
      "execution_count": 3,
      "outputs": []
    },
    {
      "cell_type": "code",
      "source": [
        "def main(deck, r):\n",
        "\n",
        "    sample_space = list(itertools.permutations(deck, r))\n",
        "    total_element = len(sample_space)\n",
        "\n",
        "    dic = rv_and_elements(r, deck, sample_space)\n",
        "    #print(dic)\n",
        "\n",
        "    e1 = expected_value_m1(dic, total_element)\n",
        "    e2 = expected_value_m2(deck, r)\n",
        "\n",
        "    #print(f'')\n",
        "    if abs(e1 - e2) < .01:\n",
        "        print(f'Method 2 works for n = {len(deck)} and r={r}, while deck = {deck} | e1 = {e1}, e2 = {e2}')"
      ],
      "metadata": {
        "id": "OVduetuKOYNM"
      },
      "execution_count": 4,
      "outputs": []
    },
    {
      "cell_type": "code",
      "source": [
        "\n",
        "if __name__==\"__main__\":\n",
        "    deck = []\n",
        "    r = 5\n",
        "    n = 20\n",
        "\n",
        "    # for i in range(1,n):\n",
        "    #     deck.append(i)\n",
        "    # print(deck)\n",
        "\n",
        "\n",
        "\n",
        "    # main(deck, r)\n",
        "\n",
        "    for i in range(1, n):\n",
        "        deck.append(i)\n",
        "        for j in range(1, len(deck)):\n",
        "            main(deck, j)\n",
        "        print('-'*80)\n",
        "\n",
        ""
      ],
      "metadata": {
        "colab": {
          "base_uri": "https://localhost:8080/"
        },
        "id": "2SIZE3VjOQcg",
        "outputId": "5731cb0a-9195-4d9a-a068-bb176ceb6eb1"
      },
      "execution_count": null,
      "outputs": [
        {
          "output_type": "stream",
          "name": "stdout",
          "text": [
            "--------------------------------------------------------------------------------\n",
            "Method 2 works for n = 2 and r=1, while deck = [1, 2] | e1 = 1.5, e2 = 1.5\n",
            "--------------------------------------------------------------------------------\n",
            "Method 2 works for n = 3 and r=1, while deck = [1, 2, 3] | e1 = 2.0, e2 = 2.0\n",
            "Method 2 works for n = 3 and r=2, while deck = [1, 2, 3] | e1 = 3.9999999999999996, e2 = 4.0\n",
            "--------------------------------------------------------------------------------\n",
            "Method 2 works for n = 4 and r=1, while deck = [1, 2, 3, 4] | e1 = 2.5, e2 = 2.5\n",
            "Method 2 works for n = 4 and r=2, while deck = [1, 2, 3, 4] | e1 = 5.0, e2 = 5.0\n",
            "Method 2 works for n = 4 and r=3, while deck = [1, 2, 3, 4] | e1 = 7.5, e2 = 7.5\n",
            "--------------------------------------------------------------------------------\n",
            "Method 2 works for n = 5 and r=1, while deck = [1, 2, 3, 4, 5] | e1 = 3.0, e2 = 3.0\n",
            "Method 2 works for n = 5 and r=2, while deck = [1, 2, 3, 4, 5] | e1 = 6.000000000000001, e2 = 6.0\n",
            "Method 2 works for n = 5 and r=3, while deck = [1, 2, 3, 4, 5] | e1 = 9.0, e2 = 9.0\n",
            "Method 2 works for n = 5 and r=4, while deck = [1, 2, 3, 4, 5] | e1 = 12.000000000000002, e2 = 12.0\n",
            "--------------------------------------------------------------------------------\n",
            "Method 2 works for n = 6 and r=1, while deck = [1, 2, 3, 4, 5, 6] | e1 = 3.5, e2 = 3.5\n",
            "Method 2 works for n = 6 and r=2, while deck = [1, 2, 3, 4, 5, 6] | e1 = 7.000000000000001, e2 = 7.0\n",
            "Method 2 works for n = 6 and r=3, while deck = [1, 2, 3, 4, 5, 6] | e1 = 10.5, e2 = 10.5\n",
            "Method 2 works for n = 6 and r=4, while deck = [1, 2, 3, 4, 5, 6] | e1 = 14.0, e2 = 14.0\n",
            "Method 2 works for n = 6 and r=5, while deck = [1, 2, 3, 4, 5, 6] | e1 = 17.5, e2 = 17.5\n",
            "--------------------------------------------------------------------------------\n",
            "Method 2 works for n = 7 and r=1, while deck = [1, 2, 3, 4, 5, 6, 7] | e1 = 3.9999999999999996, e2 = 4.0\n",
            "Method 2 works for n = 7 and r=2, while deck = [1, 2, 3, 4, 5, 6, 7] | e1 = 8.0, e2 = 8.0\n",
            "Method 2 works for n = 7 and r=3, while deck = [1, 2, 3, 4, 5, 6, 7] | e1 = 12.0, e2 = 12.0\n",
            "Method 2 works for n = 7 and r=4, while deck = [1, 2, 3, 4, 5, 6, 7] | e1 = 15.999999999999998, e2 = 16.0\n",
            "Method 2 works for n = 7 and r=5, while deck = [1, 2, 3, 4, 5, 6, 7] | e1 = 19.999999999999996, e2 = 20.0\n",
            "Method 2 works for n = 7 and r=6, while deck = [1, 2, 3, 4, 5, 6, 7] | e1 = 24.0, e2 = 24.0\n",
            "--------------------------------------------------------------------------------\n",
            "Method 2 works for n = 8 and r=1, while deck = [1, 2, 3, 4, 5, 6, 7, 8] | e1 = 4.5, e2 = 4.5\n",
            "Method 2 works for n = 8 and r=2, while deck = [1, 2, 3, 4, 5, 6, 7, 8] | e1 = 9.000000000000002, e2 = 9.0\n",
            "Method 2 works for n = 8 and r=3, while deck = [1, 2, 3, 4, 5, 6, 7, 8] | e1 = 13.5, e2 = 13.5\n",
            "Method 2 works for n = 8 and r=4, while deck = [1, 2, 3, 4, 5, 6, 7, 8] | e1 = 18.0, e2 = 18.0\n",
            "Method 2 works for n = 8 and r=5, while deck = [1, 2, 3, 4, 5, 6, 7, 8] | e1 = 22.5, e2 = 22.5\n",
            "Method 2 works for n = 8 and r=6, while deck = [1, 2, 3, 4, 5, 6, 7, 8] | e1 = 26.999999999999996, e2 = 27.0\n",
            "Method 2 works for n = 8 and r=7, while deck = [1, 2, 3, 4, 5, 6, 7, 8] | e1 = 31.5, e2 = 31.5\n",
            "--------------------------------------------------------------------------------\n",
            "Method 2 works for n = 9 and r=1, while deck = [1, 2, 3, 4, 5, 6, 7, 8, 9] | e1 = 5.0, e2 = 5.0\n",
            "Method 2 works for n = 9 and r=2, while deck = [1, 2, 3, 4, 5, 6, 7, 8, 9] | e1 = 10.0, e2 = 10.0\n",
            "Method 2 works for n = 9 and r=3, while deck = [1, 2, 3, 4, 5, 6, 7, 8, 9] | e1 = 15.0, e2 = 15.0\n",
            "Method 2 works for n = 9 and r=4, while deck = [1, 2, 3, 4, 5, 6, 7, 8, 9] | e1 = 19.999999999999996, e2 = 20.0\n",
            "Method 2 works for n = 9 and r=5, while deck = [1, 2, 3, 4, 5, 6, 7, 8, 9] | e1 = 25.000000000000004, e2 = 25.0\n",
            "Method 2 works for n = 9 and r=6, while deck = [1, 2, 3, 4, 5, 6, 7, 8, 9] | e1 = 30.0, e2 = 30.0\n",
            "Method 2 works for n = 9 and r=7, while deck = [1, 2, 3, 4, 5, 6, 7, 8, 9] | e1 = 34.99999999999999, e2 = 35.0\n",
            "Method 2 works for n = 9 and r=8, while deck = [1, 2, 3, 4, 5, 6, 7, 8, 9] | e1 = 39.99999999999999, e2 = 40.0\n",
            "--------------------------------------------------------------------------------\n",
            "Method 2 works for n = 10 and r=1, while deck = [1, 2, 3, 4, 5, 6, 7, 8, 9, 10] | e1 = 5.5, e2 = 5.5\n",
            "Method 2 works for n = 10 and r=2, while deck = [1, 2, 3, 4, 5, 6, 7, 8, 9, 10] | e1 = 11.0, e2 = 11.0\n",
            "Method 2 works for n = 10 and r=3, while deck = [1, 2, 3, 4, 5, 6, 7, 8, 9, 10] | e1 = 16.5, e2 = 16.5\n",
            "Method 2 works for n = 10 and r=4, while deck = [1, 2, 3, 4, 5, 6, 7, 8, 9, 10] | e1 = 22.0, e2 = 22.0\n",
            "Method 2 works for n = 10 and r=5, while deck = [1, 2, 3, 4, 5, 6, 7, 8, 9, 10] | e1 = 27.5, e2 = 27.5\n",
            "Method 2 works for n = 10 and r=6, while deck = [1, 2, 3, 4, 5, 6, 7, 8, 9, 10] | e1 = 33.00000000000001, e2 = 33.0\n",
            "Method 2 works for n = 10 and r=7, while deck = [1, 2, 3, 4, 5, 6, 7, 8, 9, 10] | e1 = 38.49999999999999, e2 = 38.5\n",
            "Method 2 works for n = 10 and r=8, while deck = [1, 2, 3, 4, 5, 6, 7, 8, 9, 10] | e1 = 44.00000000000001, e2 = 44.0\n",
            "Method 2 works for n = 10 and r=9, while deck = [1, 2, 3, 4, 5, 6, 7, 8, 9, 10] | e1 = 49.50000000000001, e2 = 49.5\n",
            "--------------------------------------------------------------------------------\n",
            "Method 2 works for n = 11 and r=1, while deck = [1, 2, 3, 4, 5, 6, 7, 8, 9, 10, 11] | e1 = 6.0, e2 = 6.0\n",
            "Method 2 works for n = 11 and r=2, while deck = [1, 2, 3, 4, 5, 6, 7, 8, 9, 10, 11] | e1 = 12.0, e2 = 12.0\n",
            "Method 2 works for n = 11 and r=3, while deck = [1, 2, 3, 4, 5, 6, 7, 8, 9, 10, 11] | e1 = 18.000000000000004, e2 = 18.0\n",
            "Method 2 works for n = 11 and r=4, while deck = [1, 2, 3, 4, 5, 6, 7, 8, 9, 10, 11] | e1 = 24.0, e2 = 24.0\n",
            "Method 2 works for n = 11 and r=5, while deck = [1, 2, 3, 4, 5, 6, 7, 8, 9, 10, 11] | e1 = 29.999999999999996, e2 = 30.0\n",
            "Method 2 works for n = 11 and r=6, while deck = [1, 2, 3, 4, 5, 6, 7, 8, 9, 10, 11] | e1 = 36.0, e2 = 36.0\n",
            "Method 2 works for n = 11 and r=7, while deck = [1, 2, 3, 4, 5, 6, 7, 8, 9, 10, 11] | e1 = 42.00000000000001, e2 = 42.0\n",
            "Method 2 works for n = 11 and r=8, while deck = [1, 2, 3, 4, 5, 6, 7, 8, 9, 10, 11] | e1 = 48.00000000000001, e2 = 48.0\n",
            "Method 2 works for n = 11 and r=9, while deck = [1, 2, 3, 4, 5, 6, 7, 8, 9, 10, 11] | e1 = 54.00000000000001, e2 = 54.0\n",
            "Method 2 works for n = 11 and r=10, while deck = [1, 2, 3, 4, 5, 6, 7, 8, 9, 10, 11] | e1 = 60.0, e2 = 60.0\n",
            "--------------------------------------------------------------------------------\n",
            "Method 2 works for n = 12 and r=1, while deck = [1, 2, 3, 4, 5, 6, 7, 8, 9, 10, 11, 12] | e1 = 6.5, e2 = 6.5\n",
            "Method 2 works for n = 12 and r=2, while deck = [1, 2, 3, 4, 5, 6, 7, 8, 9, 10, 11, 12] | e1 = 13.0, e2 = 13.0\n",
            "Method 2 works for n = 12 and r=3, while deck = [1, 2, 3, 4, 5, 6, 7, 8, 9, 10, 11, 12] | e1 = 19.5, e2 = 19.5\n",
            "Method 2 works for n = 12 and r=4, while deck = [1, 2, 3, 4, 5, 6, 7, 8, 9, 10, 11, 12] | e1 = 26.0, e2 = 26.0\n",
            "Method 2 works for n = 12 and r=5, while deck = [1, 2, 3, 4, 5, 6, 7, 8, 9, 10, 11, 12] | e1 = 32.50000000000001, e2 = 32.5\n",
            "Method 2 works for n = 12 and r=6, while deck = [1, 2, 3, 4, 5, 6, 7, 8, 9, 10, 11, 12] | e1 = 39.00000000000001, e2 = 39.0\n",
            "Method 2 works for n = 12 and r=7, while deck = [1, 2, 3, 4, 5, 6, 7, 8, 9, 10, 11, 12] | e1 = 45.5, e2 = 45.5\n",
            "Method 2 works for n = 12 and r=8, while deck = [1, 2, 3, 4, 5, 6, 7, 8, 9, 10, 11, 12] | e1 = 52.0, e2 = 52.0\n"
          ]
        }
      ]
    },
    {
      "cell_type": "code",
      "source": [],
      "metadata": {
        "id": "leop_mZ8PMnX"
      },
      "execution_count": null,
      "outputs": []
    },
    {
      "cell_type": "code",
      "source": [
        "# for key, val in dic.items():\n",
        "#     print(\"sum: \", key, \"| # elements: \", len(dic[key]), \"| elements:\", val)"
      ],
      "metadata": {
        "id": "9xRfQGdLzQit"
      },
      "execution_count": null,
      "outputs": []
    },
    {
      "cell_type": "markdown",
      "source": [
        "References: <br>\n",
        "[1] https://www.toppr.com/ask/en-us/question/there-are-4-cards-numbered-1-to-4/ <br>\n",
        "[2] http://cs.baylor.edu/~speegle/2350/Answers_16.pdf <br>\n",
        "[3] https://www.quora.com/Whats-the-expected-value-of-the-sum-Felicia-has-a-stack-of-10-cards-Each-card-is-labeled-with-a-number-in-the-range-1-through-10-and-no-two-cards-have-the-same-number-She-picks-3-cards-at-random-from-the-stack-and <br>\n",
        "[4] https://brilliant.org/courses/probability_ii/expected-value-4/expected-value-linearity-of-expectation/1/"
      ],
      "metadata": {
        "id": "qwKpLK9uLQvx"
      }
    },
    {
      "cell_type": "code",
      "source": [],
      "metadata": {
        "id": "0I8iraQOLfdI"
      },
      "execution_count": null,
      "outputs": []
    },
    {
      "cell_type": "markdown",
      "source": [
        "1. 5 > 3\n",
        "2. 5 > 4\n",
        "3. 5 > 2\n",
        "4. 7 > 5\n",
        "\n"
      ],
      "metadata": {
        "id": "l9E6r-BvdBXG"
      }
    },
    {
      "cell_type": "code",
      "source": [
        "abs(-1)"
      ],
      "metadata": {
        "id": "wVMuCMCEd2RQ"
      },
      "execution_count": null,
      "outputs": []
    },
    {
      "cell_type": "code",
      "source": [],
      "metadata": {
        "id": "Ut2XB9SMp7eK"
      },
      "execution_count": null,
      "outputs": []
    }
  ]
}