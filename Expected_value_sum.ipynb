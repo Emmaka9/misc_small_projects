{
  "nbformat": 4,
  "nbformat_minor": 0,
  "metadata": {
    "colab": {
      "provenance": [],
      "mount_file_id": "1W1elPMFWGi7L0dIC48SQ1e23KvrDc1D8",
      "authorship_tag": "ABX9TyO9eLNV9MPtauGr8Y3pZWQb",
      "include_colab_link": true
    },
    "kernelspec": {
      "name": "python3",
      "display_name": "Python 3"
    },
    "language_info": {
      "name": "python"
    }
  },
  "cells": [
    {
      "cell_type": "markdown",
      "metadata": {
        "id": "view-in-github",
        "colab_type": "text"
      },
      "source": [
        "<a href=\"https://colab.research.google.com/github/Emmaka9/misc_small_projects/blob/testing/Expected_value_sum.ipynb\" target=\"_parent\"><img src=\"https://colab.research.google.com/assets/colab-badge.svg\" alt=\"Open In Colab\"/></a>"
      ]
    },
    {
      "cell_type": "markdown",
      "source": [
        "# Find the expected sum of a set of numbers (without replacement)\n",
        "***Question:*** *A deck of $n$ cards are numbered with the integers 1 through $n$. The cards are then shuffled, and $r$ cards are drawn at random from the deck without replacement. What is the expected value of the sum of the numbers on those $r$ cards?* $(r<= n)?$\n",
        "\n",
        "Rephrasing the question:\n",
        "Given a set of $n$ consecutive integers, pick any $r$ integers at random without replacement, i.e., no number can be picked twice. What is the expected value of those $r$ numbers?\n",
        "\n",
        "> **_NOTE_**<br> \n",
        "**Sample Space:** The set, S, of all possible outcomes of a particular experiment is called the sample space for the experiment.<br><br>\n",
        "**Random Variable:** A function from a sample space S into the real numbers.$$X:S → \\mathbb{R}$$ If that random variable $X$ is a set of possible values from a random experiment, then\n",
        "$$ X:𝑆 \\rightarrow 𝑆 $$so random variable is an identity function.\n",
        "**Random var vs. Sample space: read - [article](https://stats.stackexchange.com/questions/264260/what-is-the-difference-between-sample-space-and-random-variable#:~:text=A%20random%20variable%20is%20a%20function%20that%20assigns%20a%20value,40%2C%2050%2C%2060%7D.)<br><br>\n",
        "**Expected Value:** (also called expectation, expectancy, mathematical expectation, mean, average, or first moment) is a generalization of weighted average[src: wikipedia]. It doesn't have to be one of the values that the random variable takes. It is a theoretical long-run average of the results over many repeated trials of the experiment.\n",
        "$$E[X] = \\sum_{x}^{} xP(X=x) $$\n",
        "\n",
        "**Solution 1:** <br>\n",
        "Let's take the particular case of n = 4 and r = 2. <br>\n",
        "Sample space for the numbers being drawn:\n",
        "$$ S = \\{(1,2),(1,3),(1,4),(2,1),(2,3),(2,4),(4,1),(4,2),(4,3),(3,1),(3,2),(3,4)\\}$$\n",
        "$$|S| = 12$$\n",
        "Let random variable $X$ be the sum of the two numbers.\n",
        "Min sum = 1+2 = 3 and the Max sum = 4+3 = 7. \n",
        "Thus, $$X \\in \\{3, 4, 5, 6, 7\\}$$\n",
        "Now, <br>\n",
        "$P(X=3)$ : Probability of event getting $ (1,2),(2,1) = \\frac{2}{12} = \\frac{1}{6} $ <br>\n",
        "$P(X=4)$ : Probability of event getting $ (1,3),(3,1) = \\frac{2}{12} = \\frac{1}{6} $ <br>\n",
        "$P(X=5)$ : Probability of event getting $ (1,4),(4,1),(2,3),(3,2) = \\frac{4}{12} = \\frac{1}{3} $ <br>\n",
        "$P(X=6)$ : Probability of event getting $ (4,2),(2,4) = \\frac{2}{12} = \\frac{1}{6} $ <br>\n",
        "$P(X=7)$ : Probability of event getting $ (4,3),(3,4) = \\frac{2}{12} = \\frac{1}{6} $ <br>\n",
        " \n",
        "$$ \\begin{align*}\n",
        "E[X] &= \\sum_{x = 3}^{7} xP(X=x)\\\\\n",
        "&= 3 \\cdot \\frac{1}{6} + 4 \\cdot \\frac{1}{6} + 5 \\cdot \\frac{1}{3} + 6 \\cdot \\frac{1}{6} + 7 \\cdot \\frac{1}{6} \\\\\n",
        "&= \\frac{30}{6} =5\n",
        "\\end{align*}\n",
        "$$\n",
        "\n",
        "**Different Solution:**<br>\n",
        "Due to linearity of expectations, the expected value of drawing 2 cards $E(X)$ = Sum of the expected value of drawing one card $E(X_1) + E(X_2)$.\n",
        "$$E(X) = E(X_1) + E(X_2)$$\n",
        "$$ \\frac{1+2+3+4}{4} = \\frac{5}{2} $$\n",
        "So $ E(X_1) = E(X_2) = \\frac{5}{2} $ <br>\n",
        "Thus, the expected value of the sum of 2 cards drawn from the same deck is $2 \\cdot \\frac{5}{2} = 5$ [[srouce1](http://cs.baylor.edu/~speegle/2350/Answers_16.pdf), [source2](https://brilliant.org/courses/probability_ii/expected-value-4/expected-value-linearity-of-expectation/1/)]\n",
        "\n",
        "Why does the second solution work?\n",
        "\n",
        "\n",
        "\n",
        "\n",
        "\n",
        "\n",
        "\n",
        "\n",
        "\n"
      ],
      "metadata": {
        "id": "NS6nySCHI_QI"
      }
    },
    {
      "cell_type": "code",
      "source": [
        "import numpy as np\n",
        "import itertools\n",
        "\n",
        "def rv_and_elements(r, deck):\n",
        "    '''\n",
        "    A function that groups all r-tuple with the same sum within a dictionary.\n",
        "\n",
        "    Parameters\n",
        "    ----------\n",
        "    max_sum : int\n",
        "        maximum sum possible.\n",
        "    min_sum: int\n",
        "        minimum sum possible.\n",
        "\n",
        "    Returns\n",
        "    -------\n",
        "    dictionary\n",
        "        a dictionary where keys are the sum and each value is a list of all r-tuples that makes up the sum.\n",
        "    '''\n",
        "\n",
        "    \n",
        "    min_sum = 0\n",
        "    for i in range(0, r):\n",
        "    #print(i)\n",
        "        min_sum += deck[i]\n",
        "\n",
        "    max_sum = 0\n",
        "    size = len(deck)\n",
        "    for i in range(size-1, size - r-1, -1):\n",
        "        print(deck[i])\n",
        "        max_sum += deck[i]\n",
        "\n",
        "    dic = {}\n",
        "    sample_space = list(itertools.permutations(deck, r))\n",
        "    for s in range(min_sum, max_sum+1):\n",
        "        for i in sample_space:\n",
        "            if sum(i) == s:\n",
        "                dic.setdefault(s, []).append(i)\n",
        "    return dic\n",
        "\n",
        "# expected value\n",
        "\n",
        "def expected_value_m1(dic, total_element):\n",
        "    #ex = 0\n",
        "\n",
        "    values = np.array([])\n",
        "    for key in dic.keys():\n",
        "        values = np.append(values, len(dic[key]))\n",
        "\n",
        "    weights = np.asarray(list(dic.keys()))\n",
        "\n",
        "    ex = (weights * (values / total_element)).sum()\n",
        "\n",
        "    return ex\n",
        "\n",
        "def expected_value_m2(deck):\n",
        "    summation = 0\n",
        "\n",
        "    for i in deck:\n",
        "        summation += i\n",
        "    print('sum = ', summation)\n",
        "\n",
        "    p = summation / len(deck)\n",
        "\n",
        "    return p*4\n",
        "\n",
        "def main(deck, r):\n",
        "    # imports\n",
        "    \n",
        "\n",
        "\n",
        "    sample_space = list(itertools.permutations(deck, r))\n",
        "    total_element = len(sample_space)\n",
        "    dic = rv_and_elements(r, deck)\n",
        "\n",
        "    e1 = expected_value_m1(dic, total_element)\n",
        "    e2 = expected_value_m2(deck)\n",
        "\n",
        "    print(f'e1 = {e1}, e2 = {e2}')\n",
        "    if abs(e1 - e2) < .01:\n",
        "        print(f'Method 2 works for n = {len(deck)} and r={r}, while deck = {deck}')\n",
        "    \n",
        "\n",
        "if __name__==\"__main__\":\n",
        "    deck = [1,2,3,4,5,6,7]\n",
        "    r = 4\n",
        "    main(deck, r)\n",
        "\n",
        "    "
      ],
      "metadata": {
        "colab": {
          "base_uri": "https://localhost:8080/"
        },
        "id": "i79faVQsx3en",
        "outputId": "d4b2b72e-24c2-4586-aa0e-9303bf93b62e"
      },
      "execution_count": 13,
      "outputs": [
        {
          "output_type": "stream",
          "name": "stdout",
          "text": [
            "7\n",
            "6\n",
            "5\n",
            "4\n",
            "sum =  28\n",
            "e1 = 15.999999999999998, e2 = 16.0\n",
            "Method 2 works for n = 7 and r=4, while deck = [1, 2, 3, 4, 5, 6, 7]\n"
          ]
        }
      ]
    },
    {
      "cell_type": "code",
      "source": [
        "# for key, val in dic.items():\n",
        "#     print(\"sum: \", key, \"| # elements: \", len(dic[key]), \"| elements:\", val)"
      ],
      "metadata": {
        "id": "9xRfQGdLzQit"
      },
      "execution_count": null,
      "outputs": []
    },
    {
      "cell_type": "markdown",
      "source": [
        "References: <br>\n",
        "[1] https://www.toppr.com/ask/en-us/question/there-are-4-cards-numbered-1-to-4/ <br>\n",
        "[2] http://cs.baylor.edu/~speegle/2350/Answers_16.pdf <br>\n",
        "[3] https://www.quora.com/Whats-the-expected-value-of-the-sum-Felicia-has-a-stack-of-10-cards-Each-card-is-labeled-with-a-number-in-the-range-1-through-10-and-no-two-cards-have-the-same-number-She-picks-3-cards-at-random-from-the-stack-and <br>\n",
        "[4] https://brilliant.org/courses/probability_ii/expected-value-4/expected-value-linearity-of-expectation/1/"
      ],
      "metadata": {
        "id": "qwKpLK9uLQvx"
      }
    },
    {
      "cell_type": "code",
      "source": [],
      "metadata": {
        "id": "0I8iraQOLfdI"
      },
      "execution_count": null,
      "outputs": []
    },
    {
      "cell_type": "markdown",
      "source": [
        "1. 5 > 3\n",
        "2. 5 > 4 \n",
        "3. 5 > 2\n",
        "4. 7 > 5 \n",
        "\n"
      ],
      "metadata": {
        "id": "l9E6r-BvdBXG"
      }
    },
    {
      "cell_type": "code",
      "source": [
        "abs(-1)"
      ],
      "metadata": {
        "id": "wVMuCMCEd2RQ",
        "colab": {
          "base_uri": "https://localhost:8080/"
        },
        "outputId": "c46662a9-1221-4035-aeb8-3d2642764356"
      },
      "execution_count": 10,
      "outputs": [
        {
          "output_type": "execute_result",
          "data": {
            "text/plain": [
              "1"
            ]
          },
          "metadata": {},
          "execution_count": 10
        }
      ]
    },
    {
      "cell_type": "code",
      "source": [],
      "metadata": {
        "id": "Ut2XB9SMp7eK"
      },
      "execution_count": null,
      "outputs": []
    }
  ]
}