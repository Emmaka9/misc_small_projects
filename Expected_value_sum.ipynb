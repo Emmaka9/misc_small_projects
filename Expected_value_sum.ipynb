{
  "nbformat": 4,
  "nbformat_minor": 0,
  "metadata": {
    "colab": {
      "provenance": [],
      "mount_file_id": "1W1elPMFWGi7L0dIC48SQ1e23KvrDc1D8",
      "authorship_tag": "ABX9TyNIUKvKcM/8XdwfCVyPar/C",
      "include_colab_link": true
    },
    "kernelspec": {
      "name": "python3",
      "display_name": "Python 3"
    },
    "language_info": {
      "name": "python"
    }
  },
  "cells": [
    {
      "cell_type": "markdown",
      "metadata": {
        "id": "view-in-github",
        "colab_type": "text"
      },
      "source": [
        "<a href=\"https://colab.research.google.com/github/Emmaka9/misc_small_projects/blob/testing/Expected_value_sum.ipynb\" target=\"_parent\"><img src=\"https://colab.research.google.com/assets/colab-badge.svg\" alt=\"Open In Colab\"/></a>"
      ]
    },
    {
      "cell_type": "markdown",
      "source": [
        "# Find the expected sum of a set of numbers (without replacement)\n",
        "***Question:*** *A deck of $n$ cards are numbered with the integers 1 through $n$. The cards are then shuffled, and $r$ cards are drawn at random from the deck without replacement. What is the expected value of the sum of the numbers on those $r$ cards?* $(r<= n)?$\n",
        "\n",
        "Rephrasing the question:\n",
        "Given a set of $n$ consecutive integers, pick any $r$ integers at random without replacement, i.e., no number can be picked twice. What is the expected value of those $r$ numbers?\n",
        "\n",
        "> **_NOTE_**<br> \n",
        "**Sample Space:** The set, S, of all possible outcomes of a particular experiment is called the sample space for the experiment.<br><br>\n",
        "**Random Variable:** A function from a sample space S into the real numbers.$$X:S → \\mathbb{R}$$ If that random variable $X$ is a set of possible values from a random experiment, then\n",
        "$$ X:𝑆 \\rightarrow 𝑆 $$so random variable is an identity function.\n",
        "**Random var vs. Sample space: read - [article](https://stats.stackexchange.com/questions/264260/what-is-the-difference-between-sample-space-and-random-variable#:~:text=A%20random%20variable%20is%20a%20function%20that%20assigns%20a%20value,40%2C%2050%2C%2060%7D.)<br><br>\n",
        "**Expected Value:** (also called expectation, expectancy, mathematical expectation, mean, average, or first moment) is a generalization of weighted average[src: wikipedia]. It doesn't have to be one of the values that the random variable takes. It is a theoretical long-run average of the results over many repeated trials of the experiment.\n",
        "$$E[X] = \\sum_{x}^{} xP(X=x) $$\n",
        "\n",
        "**Solution 1:** <br>\n",
        "Let's take the particular case of n = 4 and r = 2. <br>\n",
        "Sample space for the numbers being drawn:\n",
        "$$ S = \\{(1,2),(1,3),(1,4),(2,1),(2,3),(2,4),(4,1),(4,2),(4,3),(3,1),(3,2),(3,4)\\}$$\n",
        "$$|S| = 12$$\n",
        "Let random variable $X$ be the sum of the two numbers.\n",
        "Min sum = 1+2 = 3 and the Max sum = 4+3 = 7. \n",
        "Thus, $$X \\in \\{3, 4, 5, 6, 7\\}$$\n",
        "Now, <br>\n",
        "$P(X=3)$ : Probability of event getting $ (1,2),(2,1) = \\frac{2}{12} = \\frac{1}{6} $ <br>\n",
        "$P(X=4)$ : Probability of event getting $ (1,3),(3,1) = \\frac{2}{12} = \\frac{1}{6} $ <br>\n",
        "$P(X=5)$ : Probability of event getting $ (1,4),(4,1),(2,3),(3,2) = \\frac{4}{12} = \\frac{1}{3} $ <br>\n",
        "$P(X=6)$ : Probability of event getting $ (4,2),(2,4) = \\frac{2}{12} = \\frac{1}{6} $ <br>\n",
        "$P(X=7)$ : Probability of event getting $ (4,3),(3,4) = \\frac{2}{12} = \\frac{1}{6} $ <br>\n",
        " \n",
        "$$ \\begin{align*}\n",
        "E[X] &= \\sum_{x = 3}^{7} xP(X=x)\\\\\n",
        "&= 3 \\cdot \\frac{1}{6} + 4 \\cdot \\frac{1}{6} + 5 \\cdot \\frac{1}{3} + 6 \\cdot \\frac{1}{6} + 7 \\cdot \\frac{1}{6} \\\\\n",
        "&= \\frac{30}{6} =5\n",
        "\\end{align*}\n",
        "$$\n",
        "\n",
        "**Different Solution:**<br>\n",
        "Due to linearity of expectations, the expected value of drawing 2 cards $E(X)$ = Sum of the expected value of drawing one card $E(X_1) + E(X_2)$.\n",
        "$$E(X) = E(X_1) + E(X_2)$$\n",
        "$$ \\frac{1+2+3+4}{4} = \\frac{5}{2} $$\n",
        "So $ E(X_1) = E(X_2) = \\frac{5}{2} $ <br>\n",
        "Thus, the expected value of the sum of 2 cards drawn from the same deck is $2 \\cdot \\frac{5}{2} = 5$ [[srouce1](http://cs.baylor.edu/~speegle/2350/Answers_16.pdf), [source2](https://brilliant.org/courses/probability_ii/expected-value-4/expected-value-linearity-of-expectation/1/)]\n",
        "\n",
        "**Why does the second solution work?**<br>\n",
        "Taking one card changes the expected value of the next two, because if we take a 4, then the expected value of the NEXT card goes down from 2.5 to 2.\n",
        "\n",
        "But the nature of the distribution is entirely symmetrical, so we can prove that the impact of taking a 4 is exactly the same BUT IN THE OPPOSITE direction to taking a 1... so on the expectation, the two conditionals balance each other out... likewise, we can pair 3,2 ...and so on.\n",
        "\n",
        "It's worth noting that this shows up \"expected value\" doesn't have to be a value we can actually get.\n",
        "\n",
        "For example: deck = [1,2,3,4,5], r = 3.\n",
        "Mean = (1+2+3+4+5)/5 = 15/5 = 3\n",
        "If we take 5 as the first card, the mean goes down to 10/4 = 5/2 = 2.5<br>\n",
        "But if we take 1 as the first card, the mean = 14/4 = 7/2 = 3.5 <br>\n",
        "Thus, (2.5+3.5)/2 = 6/2 = 3 (balances out each other) \n",
        "\n",
        "\n",
        "\n",
        "\n",
        "\n",
        "\n",
        "\n",
        "\n"
      ],
      "metadata": {
        "id": "NS6nySCHI_QI"
      }
    },
    {
      "cell_type": "code",
      "source": [
        "import numpy as np\n",
        "import itertools\n",
        "import time"
      ],
      "metadata": {
        "id": "1LfbhNTo09F_"
      },
      "execution_count": 1,
      "outputs": []
    },
    {
      "cell_type": "code",
      "source": [
        "\n",
        "\n",
        "def rv_and_elements(r, deck):\n",
        "    '''\n",
        "    A function that groups all r-tuple with the same sum within a dictionary.\n",
        "\n",
        "    Parameters\n",
        "    ----------\n",
        "    max_sum : int\n",
        "        maximum sum possible.\n",
        "    min_sum: int\n",
        "        minimum sum possible.\n",
        "\n",
        "    Returns\n",
        "    -------\n",
        "    dictionary\n",
        "        a dictionary where keys are the sum and each value is a list of all r-tuples that makes up the sum.\n",
        "    '''\n",
        "\n",
        "    start = time.time()\n",
        "    min_sum = 0\n",
        "    for i in range(0, r):\n",
        "    #print(i)\n",
        "        min_sum += deck[i]\n",
        "\n",
        "    max_sum = 0\n",
        "    size = len(deck)\n",
        "    for i in range(size-1, size - r-1, -1):\n",
        "        max_sum += deck[i]\n",
        "    end = time.time()\n",
        "    print(f\"elapsed time inside before perm: {end - start}\")\n",
        "    start =time.time()\n",
        "    dic = {}\n",
        "    sample_space = list(itertools.permutations(deck, r))\n",
        "\n",
        "    end = time.time()\n",
        "    print(f\"elapsed time inside after perm: {end - start}\")\n",
        "\n",
        "    start = time.time()\n",
        "\n",
        "    for s in range(min_sum, max_sum+1):\n",
        "        for i in sample_space:\n",
        "            if sum(i) == s:\n",
        "                dic.setdefault(s, []).append(i)\n",
        "\n",
        "    end = time.time()\n",
        "    print(f\"elapsed time inside after quadratic loop: {end - start}\")\n",
        "\n",
        "    \n",
        "    return dic\n",
        "\n",
        "# expected value\n",
        "\n",
        "def expected_value_m1(dic, total_element):\n",
        "    #ex = 0\n",
        "\n",
        "    values = np.array([])\n",
        "    for key in dic.keys():\n",
        "        values = np.append(values, len(dic[key]))\n",
        "\n",
        "    weights = np.asarray(list(dic.keys()))\n",
        "\n",
        "    ex = (weights * (values / total_element)).sum()\n",
        "\n",
        "    return ex\n",
        "\n",
        "def expected_value_m2(deck, r):\n",
        "    start = time.time()\n",
        "\n",
        "    summation = 0\n",
        "\n",
        "    for i in deck:\n",
        "        summation += i\n",
        "    #print('sum = ', summation)\n",
        "\n",
        "    p = summation / len(deck)\n",
        "\n",
        "    end = time.time()\n",
        "    print(f\"elapsed time inside expected_value_m2: {end - start}\")\n",
        "    return p*r\n",
        "\n",
        "def main(deck, r):\n",
        "    # imports\n",
        "    \n",
        "\n",
        "\n",
        "    sample_space = list(itertools.permutations(deck, r))\n",
        "    total_element = len(sample_space)\n",
        "    dic = rv_and_elements(r, deck)\n",
        "\n",
        "    e1 = expected_value_m1(dic, total_element)\n",
        "    e2 = expected_value_m2(deck, r)\n",
        "\n",
        "    #print(f'')\n",
        "    if abs(e1 - e2) < .01:\n",
        "        print(f'Method 2 works for n = {len(deck)} and r={r}, while deck = {deck} | e1 = {e1}, e2 = {e2}')\n",
        "    \n",
        "\n",
        "if __name__==\"__main__\":\n",
        "    deck = []\n",
        "    for i in range(1,24):\n",
        "        deck.append(i)\n",
        "    print(deck)\n",
        "    r = 5\n",
        "    n = 100\n",
        "\n",
        "    main(deck, 5)\n",
        "\n",
        "    # for i in range(12, n):\n",
        "    #     deck.append(2*i)\n",
        "    #     for j in range(1, len(deck)):\n",
        "    #         main(deck, j)\n",
        "    #     print('-'*80)\n",
        "\n",
        "    "
      ],
      "metadata": {
        "colab": {
          "base_uri": "https://localhost:8080/",
          "height": 374
        },
        "id": "i79faVQsx3en",
        "outputId": "dad85e50-c638-4f27-e6a4-fc49f74744a8"
      },
      "execution_count": 1,
      "outputs": [
        {
          "output_type": "stream",
          "name": "stdout",
          "text": [
            "[1, 2, 3, 4, 5, 6, 7, 8, 9, 10, 11, 12, 13, 14, 15, 16, 17, 18, 19, 20, 21, 22, 23]\n"
          ]
        },
        {
          "output_type": "error",
          "ename": "NameError",
          "evalue": "ignored",
          "traceback": [
            "\u001b[0;31m---------------------------------------------------------------------------\u001b[0m",
            "\u001b[0;31mNameError\u001b[0m                                 Traceback (most recent call last)",
            "\u001b[0;32m<ipython-input-1-9136afa3df89>\u001b[0m in \u001b[0;36m<cell line: 97>\u001b[0;34m()\u001b[0m\n\u001b[1;32m    103\u001b[0m     \u001b[0mn\u001b[0m \u001b[0;34m=\u001b[0m \u001b[0;36m100\u001b[0m\u001b[0;34m\u001b[0m\u001b[0;34m\u001b[0m\u001b[0m\n\u001b[1;32m    104\u001b[0m \u001b[0;34m\u001b[0m\u001b[0m\n\u001b[0;32m--> 105\u001b[0;31m     \u001b[0mmain\u001b[0m\u001b[0;34m(\u001b[0m\u001b[0mdeck\u001b[0m\u001b[0;34m,\u001b[0m \u001b[0;36m5\u001b[0m\u001b[0;34m)\u001b[0m\u001b[0;34m\u001b[0m\u001b[0;34m\u001b[0m\u001b[0m\n\u001b[0m\u001b[1;32m    106\u001b[0m \u001b[0;34m\u001b[0m\u001b[0m\n\u001b[1;32m    107\u001b[0m     \u001b[0;31m# for i in range(12, n):\u001b[0m\u001b[0;34m\u001b[0m\u001b[0;34m\u001b[0m\u001b[0m\n",
            "\u001b[0;32m<ipython-input-1-9136afa3df89>\u001b[0m in \u001b[0;36mmain\u001b[0;34m(deck, r)\u001b[0m\n\u001b[1;32m     83\u001b[0m \u001b[0;34m\u001b[0m\u001b[0m\n\u001b[1;32m     84\u001b[0m \u001b[0;34m\u001b[0m\u001b[0m\n\u001b[0;32m---> 85\u001b[0;31m     \u001b[0msample_space\u001b[0m \u001b[0;34m=\u001b[0m \u001b[0mlist\u001b[0m\u001b[0;34m(\u001b[0m\u001b[0mitertools\u001b[0m\u001b[0;34m.\u001b[0m\u001b[0mpermutations\u001b[0m\u001b[0;34m(\u001b[0m\u001b[0mdeck\u001b[0m\u001b[0;34m,\u001b[0m \u001b[0mr\u001b[0m\u001b[0;34m)\u001b[0m\u001b[0;34m)\u001b[0m\u001b[0;34m\u001b[0m\u001b[0;34m\u001b[0m\u001b[0m\n\u001b[0m\u001b[1;32m     86\u001b[0m     \u001b[0mtotal_element\u001b[0m \u001b[0;34m=\u001b[0m \u001b[0mlen\u001b[0m\u001b[0;34m(\u001b[0m\u001b[0msample_space\u001b[0m\u001b[0;34m)\u001b[0m\u001b[0;34m\u001b[0m\u001b[0;34m\u001b[0m\u001b[0m\n\u001b[1;32m     87\u001b[0m     \u001b[0mdic\u001b[0m \u001b[0;34m=\u001b[0m \u001b[0mrv_and_elements\u001b[0m\u001b[0;34m(\u001b[0m\u001b[0mr\u001b[0m\u001b[0;34m,\u001b[0m \u001b[0mdeck\u001b[0m\u001b[0;34m)\u001b[0m\u001b[0;34m\u001b[0m\u001b[0;34m\u001b[0m\u001b[0m\n",
            "\u001b[0;31mNameError\u001b[0m: name 'itertools' is not defined"
          ]
        }
      ]
    },
    {
      "cell_type": "code",
      "source": [
        "# for key, val in dic.items():\n",
        "#     print(\"sum: \", key, \"| # elements: \", len(dic[key]), \"| elements:\", val)"
      ],
      "metadata": {
        "id": "9xRfQGdLzQit"
      },
      "execution_count": 3,
      "outputs": []
    },
    {
      "cell_type": "markdown",
      "source": [
        "References: <br>\n",
        "[1] https://www.toppr.com/ask/en-us/question/there-are-4-cards-numbered-1-to-4/ <br>\n",
        "[2] http://cs.baylor.edu/~speegle/2350/Answers_16.pdf <br>\n",
        "[3] https://www.quora.com/Whats-the-expected-value-of-the-sum-Felicia-has-a-stack-of-10-cards-Each-card-is-labeled-with-a-number-in-the-range-1-through-10-and-no-two-cards-have-the-same-number-She-picks-3-cards-at-random-from-the-stack-and <br>\n",
        "[4] https://brilliant.org/courses/probability_ii/expected-value-4/expected-value-linearity-of-expectation/1/"
      ],
      "metadata": {
        "id": "qwKpLK9uLQvx"
      }
    },
    {
      "cell_type": "code",
      "source": [],
      "metadata": {
        "id": "0I8iraQOLfdI"
      },
      "execution_count": 3,
      "outputs": []
    },
    {
      "cell_type": "markdown",
      "source": [
        "1. 5 > 3\n",
        "2. 5 > 4 \n",
        "3. 5 > 2\n",
        "4. 7 > 5 \n",
        "\n"
      ],
      "metadata": {
        "id": "l9E6r-BvdBXG"
      }
    },
    {
      "cell_type": "code",
      "source": [
        "abs(-1)"
      ],
      "metadata": {
        "id": "wVMuCMCEd2RQ",
        "colab": {
          "base_uri": "https://localhost:8080/"
        },
        "outputId": "0049fbfc-e6c7-4f55-d7ae-4aa5b8be0f1f"
      },
      "execution_count": 4,
      "outputs": [
        {
          "output_type": "execute_result",
          "data": {
            "text/plain": [
              "1"
            ]
          },
          "metadata": {},
          "execution_count": 4
        }
      ]
    },
    {
      "cell_type": "code",
      "source": [],
      "metadata": {
        "id": "Ut2XB9SMp7eK"
      },
      "execution_count": 4,
      "outputs": []
    }
  ]
}