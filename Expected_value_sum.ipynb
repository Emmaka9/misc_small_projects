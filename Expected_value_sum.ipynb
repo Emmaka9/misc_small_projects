{
  "nbformat": 4,
  "nbformat_minor": 0,
  "metadata": {
    "colab": {
      "provenance": [],
      "authorship_tag": "ABX9TyP4k8/OxDyc2yIWgiBTEpbg",
      "include_colab_link": true
    },
    "kernelspec": {
      "name": "python3",
      "display_name": "Python 3"
    },
    "language_info": {
      "name": "python"
    }
  },
  "cells": [
    {
      "cell_type": "markdown",
      "metadata": {
        "id": "view-in-github",
        "colab_type": "text"
      },
      "source": [
        "<a href=\"https://colab.research.google.com/github/Emmaka9/misc_small_projects/blob/testing/Expected_value_sum.ipynb\" target=\"_parent\"><img src=\"https://colab.research.google.com/assets/colab-badge.svg\" alt=\"Open In Colab\"/></a>"
      ]
    },
    {
      "cell_type": "markdown",
      "source": [
        "# Find the expected sum of a set of numbers (without replacement)\n",
        "***Question:*** *A deck of $n$ cards are numbered with the integers 1 through $n$. The cards are then shuffled, and $r$ cards are drawn at random from the deck without replacement. What is the expected value of the sum of the numbers on those $r$ cards?* $(r<= n)?$\n",
        "\n",
        "Rephrasing the question:\n",
        "Given a set of $n$ consecutive integers, pick any $r$ integers at random without replacement, i.e., no number can be picked twice. What is the expected value of those $r$ numbers?\n",
        "\n",
        "> **_NOTE_**<br> \n",
        "**Sample Space:** The set, S, of all possible outcomes of a particular experiment is called the sample space for the experiment.<br><br>\n",
        "**Random Variable:** A function from a sample space S into the real numbers.$$X:S → \\mathbb{R}$$ If that random variable $X$ is a set of possible values from a random experiment, then\n",
        "$$ X:𝑆 \\rightarrow 𝑆 $$so random variable is an identity function.\n",
        "**Random var vs. Sample space: read - [article](https://stats.stackexchange.com/questions/264260/what-is-the-difference-between-sample-space-and-random-variable#:~:text=A%20random%20variable%20is%20a%20function%20that%20assigns%20a%20value,40%2C%2050%2C%2060%7D.)<br><br>\n",
        "**Expected Value:** (also called expectation, expectancy, mathematical expectation, mean, average, or first moment) is a generalization of weighted average[src: wikipedia]. It doesn't have to be one of the values that the random variable takes. It is a theoretical long-run average of the results over many repeated trials of the experiment.\n",
        "$$E[X] = \\sum_{x}^{} xP(X=x) $$\n",
        "\n",
        "**Solution 1:** <br>\n",
        "Let's take the particular case of n = 4 and r = 2. <br>\n",
        "Sample space for the numbers being drawn:\n",
        "$$ S = \\{(1,2),(1,3),(1,4),(2,1),(2,3),(2,4),(4,1),(4,2),(4,3),(3,1),(3,2),(3,4)\\}$$\n",
        "$$|S| = 12$$\n",
        "Let random variable $X$ be the sum of the two numbers.\n",
        "Min sum = 1+2 = 3 and the Max sum = 4+3 = 7. \n",
        "Thus, $$X \\in \\{3, 4, 5, 6, 7\\}$$\n",
        "Now, <br>\n",
        "$P(X=3)$ : Probability of event getting $ (1,2),(2,1) = \\frac{2}{12} = \\frac{1}{6} $ <br>\n",
        "$P(X=4)$ : Probability of event getting $ (1,3),(3,1) = \\frac{2}{12} = \\frac{1}{6} $ <br>\n",
        "$P(X=5)$ : Probability of event getting $ (1,4),(4,1),(2,3),(3,2) = \\frac{4}{12} = \\frac{1}{3} $ <br>\n",
        "$P(X=6)$ : Probability of event getting $ (4,2),(2,4) = \\frac{2}{12} = \\frac{1}{6} $ <br>\n",
        "$P(X=7)$ : Probability of event getting $ (4,3),(3,4) = \\frac{2}{12} = \\frac{1}{6} $ <br>\n",
        " \n",
        "$$ \\begin{align*}\n",
        "E[X] &= \\sum_{x = 3}^{7} xP(X=x)\\\\\n",
        "&= 3 \\cdot \\frac{1}{6} + 4 \\cdot \\frac{1}{6} + 5 \\cdot \\frac{1}{3} + 6 \\cdot \\frac{1}{6} + 7 \\cdot \\frac{1}{6} \\\\\n",
        "&= \\frac{30}{6} =5\n",
        "\\end{align*}\n",
        "$$\n",
        "\n",
        "**Different Solution:**<br>\n",
        "Due to linearity of expectations, the expected value of drawing 2 cards $E(X)$ = Sum of the expected value of drawing one card $E(X_1) + E(X_2)$.\n",
        "$$E(X) = E(X_1) + E(X_2)$$\n",
        "$$ \\frac{1+2+3+4}{4} = \\frac{5}{2} $$\n",
        "So $ E(X_1) = E(X_2) = \\frac{5}{2} $ <br>\n",
        "Thus, the expected value of the sum of 2 cards drawn from the same deck is $2 \\cdot \\frac{5}{2} = 5$ [[srouce1](http://cs.baylor.edu/~speegle/2350/Answers_16.pdf), [source2](https://brilliant.org/courses/probability_ii/expected-value-4/expected-value-linearity-of-expectation/1/)]\n",
        "\n",
        "Why does the second solution work?\n",
        "\n",
        "\n",
        "\n",
        "\n",
        "\n",
        "\n",
        "\n",
        "\n",
        "\n"
      ],
      "metadata": {
        "id": "NS6nySCHI_QI"
      }
    },
    {
      "cell_type": "code",
      "source": [],
      "metadata": {
        "id": "RCWcULEMI-d2"
      },
      "execution_count": null,
      "outputs": []
    },
    {
      "cell_type": "code",
      "execution_count": 2,
      "metadata": {
        "id": "5ciVtblew7KT"
      },
      "outputs": [],
      "source": [
        "# imports\n",
        "import itertools"
      ]
    },
    {
      "cell_type": "code",
      "source": [
        "deck = [1,2,3,4,5]\n",
        "\n",
        "sample_space = list(itertools.permutations(deck, 3))\n",
        "sample_space"
      ],
      "metadata": {
        "colab": {
          "base_uri": "https://localhost:8080/"
        },
        "id": "GNHcjS7fxAtq",
        "outputId": "67634502-944b-4bd0-bda0-f623eb4b870e"
      },
      "execution_count": 3,
      "outputs": [
        {
          "output_type": "execute_result",
          "data": {
            "text/plain": [
              "[(1, 2, 3),\n",
              " (1, 2, 4),\n",
              " (1, 2, 5),\n",
              " (1, 3, 2),\n",
              " (1, 3, 4),\n",
              " (1, 3, 5),\n",
              " (1, 4, 2),\n",
              " (1, 4, 3),\n",
              " (1, 4, 5),\n",
              " (1, 5, 2),\n",
              " (1, 5, 3),\n",
              " (1, 5, 4),\n",
              " (2, 1, 3),\n",
              " (2, 1, 4),\n",
              " (2, 1, 5),\n",
              " (2, 3, 1),\n",
              " (2, 3, 4),\n",
              " (2, 3, 5),\n",
              " (2, 4, 1),\n",
              " (2, 4, 3),\n",
              " (2, 4, 5),\n",
              " (2, 5, 1),\n",
              " (2, 5, 3),\n",
              " (2, 5, 4),\n",
              " (3, 1, 2),\n",
              " (3, 1, 4),\n",
              " (3, 1, 5),\n",
              " (3, 2, 1),\n",
              " (3, 2, 4),\n",
              " (3, 2, 5),\n",
              " (3, 4, 1),\n",
              " (3, 4, 2),\n",
              " (3, 4, 5),\n",
              " (3, 5, 1),\n",
              " (3, 5, 2),\n",
              " (3, 5, 4),\n",
              " (4, 1, 2),\n",
              " (4, 1, 3),\n",
              " (4, 1, 5),\n",
              " (4, 2, 1),\n",
              " (4, 2, 3),\n",
              " (4, 2, 5),\n",
              " (4, 3, 1),\n",
              " (4, 3, 2),\n",
              " (4, 3, 5),\n",
              " (4, 5, 1),\n",
              " (4, 5, 2),\n",
              " (4, 5, 3),\n",
              " (5, 1, 2),\n",
              " (5, 1, 3),\n",
              " (5, 1, 4),\n",
              " (5, 2, 1),\n",
              " (5, 2, 3),\n",
              " (5, 2, 4),\n",
              " (5, 3, 1),\n",
              " (5, 3, 2),\n",
              " (5, 3, 4),\n",
              " (5, 4, 1),\n",
              " (5, 4, 2),\n",
              " (5, 4, 3)]"
            ]
          },
          "metadata": {},
          "execution_count": 3
        }
      ]
    },
    {
      "cell_type": "code",
      "source": [
        "len(sample_space)"
      ],
      "metadata": {
        "colab": {
          "base_uri": "https://localhost:8080/"
        },
        "id": "PAv8BW7Qxdda",
        "outputId": "5ab7071c-5890-4efa-e3f1-e85342ecd541"
      },
      "execution_count": 5,
      "outputs": [
        {
          "output_type": "execute_result",
          "data": {
            "text/plain": [
              "60"
            ]
          },
          "metadata": {},
          "execution_count": 5
        }
      ]
    },
    {
      "cell_type": "code",
      "source": [
        "min_sum = 1+2+3\n",
        "max_sum = 5+4+3\n",
        "min_sum, max_sum"
      ],
      "metadata": {
        "colab": {
          "base_uri": "https://localhost:8080/"
        },
        "id": "i79faVQsx3en",
        "outputId": "a649378e-1cce-489d-fd7b-ad27b59d20fd"
      },
      "execution_count": 7,
      "outputs": [
        {
          "output_type": "execute_result",
          "data": {
            "text/plain": [
              "(6, 12)"
            ]
          },
          "metadata": {},
          "execution_count": 7
        }
      ]
    },
    {
      "cell_type": "code",
      "source": [
        "dic = {}\n",
        "for s in range(min_sum, max_sum+1):\n",
        "    for i in sample_space:\n",
        "        if sum(i) == s:\n",
        "            dic.setdefault(s, []).append(i)"
      ],
      "metadata": {
        "id": "D28RDAdNyy2V"
      },
      "execution_count": 16,
      "outputs": []
    },
    {
      "cell_type": "code",
      "source": [
        "dic"
      ],
      "metadata": {
        "colab": {
          "base_uri": "https://localhost:8080/"
        },
        "id": "qMsQifpNzEZk",
        "outputId": "f684e6d1-22d3-40e3-95a6-7ab860c8d32c"
      },
      "execution_count": 17,
      "outputs": [
        {
          "output_type": "execute_result",
          "data": {
            "text/plain": [
              "{6: [(1, 2, 3), (1, 3, 2), (2, 1, 3), (2, 3, 1), (3, 1, 2), (3, 2, 1)],\n",
              " 7: [(1, 2, 4), (1, 4, 2), (2, 1, 4), (2, 4, 1), (4, 1, 2), (4, 2, 1)],\n",
              " 8: [(1, 2, 5),\n",
              "  (1, 3, 4),\n",
              "  (1, 4, 3),\n",
              "  (1, 5, 2),\n",
              "  (2, 1, 5),\n",
              "  (2, 5, 1),\n",
              "  (3, 1, 4),\n",
              "  (3, 4, 1),\n",
              "  (4, 1, 3),\n",
              "  (4, 3, 1),\n",
              "  (5, 1, 2),\n",
              "  (5, 2, 1)],\n",
              " 9: [(1, 3, 5),\n",
              "  (1, 5, 3),\n",
              "  (2, 3, 4),\n",
              "  (2, 4, 3),\n",
              "  (3, 1, 5),\n",
              "  (3, 2, 4),\n",
              "  (3, 4, 2),\n",
              "  (3, 5, 1),\n",
              "  (4, 2, 3),\n",
              "  (4, 3, 2),\n",
              "  (5, 1, 3),\n",
              "  (5, 3, 1)],\n",
              " 10: [(1, 4, 5),\n",
              "  (1, 5, 4),\n",
              "  (2, 3, 5),\n",
              "  (2, 5, 3),\n",
              "  (3, 2, 5),\n",
              "  (3, 5, 2),\n",
              "  (4, 1, 5),\n",
              "  (4, 5, 1),\n",
              "  (5, 1, 4),\n",
              "  (5, 2, 3),\n",
              "  (5, 3, 2),\n",
              "  (5, 4, 1)],\n",
              " 11: [(2, 4, 5), (2, 5, 4), (4, 2, 5), (4, 5, 2), (5, 2, 4), (5, 4, 2)],\n",
              " 12: [(3, 4, 5), (3, 5, 4), (4, 3, 5), (4, 5, 3), (5, 3, 4), (5, 4, 3)]}"
            ]
          },
          "metadata": {},
          "execution_count": 17
        }
      ]
    },
    {
      "cell_type": "code",
      "source": [
        "for key, val in dic.items():\n",
        "    print(\"sum: \", key, \"| # elements: \", len(dic[key]), \"| elements:\", val)"
      ],
      "metadata": {
        "colab": {
          "base_uri": "https://localhost:8080/"
        },
        "id": "9xRfQGdLzQit",
        "outputId": "49939d9b-946c-457e-a134-70b1cbb62651"
      },
      "execution_count": 29,
      "outputs": [
        {
          "output_type": "stream",
          "name": "stdout",
          "text": [
            "sum:  6 | # elements:  6 | elements: [(1, 2, 3), (1, 3, 2), (2, 1, 3), (2, 3, 1), (3, 1, 2), (3, 2, 1)]\n",
            "sum:  7 | # elements:  6 | elements: [(1, 2, 4), (1, 4, 2), (2, 1, 4), (2, 4, 1), (4, 1, 2), (4, 2, 1)]\n",
            "sum:  8 | # elements:  12 | elements: [(1, 2, 5), (1, 3, 4), (1, 4, 3), (1, 5, 2), (2, 1, 5), (2, 5, 1), (3, 1, 4), (3, 4, 1), (4, 1, 3), (4, 3, 1), (5, 1, 2), (5, 2, 1)]\n",
            "sum:  9 | # elements:  12 | elements: [(1, 3, 5), (1, 5, 3), (2, 3, 4), (2, 4, 3), (3, 1, 5), (3, 2, 4), (3, 4, 2), (3, 5, 1), (4, 2, 3), (4, 3, 2), (5, 1, 3), (5, 3, 1)]\n",
            "sum:  10 | # elements:  12 | elements: [(1, 4, 5), (1, 5, 4), (2, 3, 5), (2, 5, 3), (3, 2, 5), (3, 5, 2), (4, 1, 5), (4, 5, 1), (5, 1, 4), (5, 2, 3), (5, 3, 2), (5, 4, 1)]\n",
            "sum:  11 | # elements:  6 | elements: [(2, 4, 5), (2, 5, 4), (4, 2, 5), (4, 5, 2), (5, 2, 4), (5, 4, 2)]\n",
            "sum:  12 | # elements:  6 | elements: [(3, 4, 5), (3, 5, 4), (4, 3, 5), (4, 5, 3), (5, 3, 4), (5, 4, 3)]\n"
          ]
        }
      ]
    },
    {
      "cell_type": "code",
      "source": [],
      "metadata": {
        "id": "bXUOPwAN3T1v"
      },
      "execution_count": 29,
      "outputs": []
    },
    {
      "cell_type": "code",
      "source": [],
      "metadata": {
        "id": "BasppF8s52eb"
      },
      "execution_count": null,
      "outputs": []
    },
    {
      "cell_type": "markdown",
      "source": [
        "References: <br>\n",
        "[1] https://www.toppr.com/ask/en-us/question/there-are-4-cards-numbered-1-to-4/ <br>\n",
        "[2] http://cs.baylor.edu/~speegle/2350/Answers_16.pdf <br>\n",
        "[3] https://www.quora.com/Whats-the-expected-value-of-the-sum-Felicia-has-a-stack-of-10-cards-Each-card-is-labeled-with-a-number-in-the-range-1-through-10-and-no-two-cards-have-the-same-number-She-picks-3-cards-at-random-from-the-stack-and <br>\n",
        "[4] https://brilliant.org/courses/probability_ii/expected-value-4/expected-value-linearity-of-expectation/1/"
      ],
      "metadata": {
        "id": "qwKpLK9uLQvx"
      }
    },
    {
      "cell_type": "code",
      "source": [],
      "metadata": {
        "id": "0I8iraQOLfdI"
      },
      "execution_count": null,
      "outputs": []
    }
  ]
}